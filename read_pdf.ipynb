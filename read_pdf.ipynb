{
 "metadata": {
  "language_info": {
   "codemirror_mode": {
    "name": "ipython",
    "version": 3
   },
   "file_extension": ".py",
   "mimetype": "text/x-python",
   "name": "python",
   "nbconvert_exporter": "python",
   "pygments_lexer": "ipython3",
   "version": "3.6.13"
  },
  "orig_nbformat": 2,
  "kernelspec": {
   "name": "python3613jvsc74a57bd02c68e988c4d3fd250de957d652885e097976c72c17aa88a7c2e2994fe61e8a4f",
   "display_name": "Python 3.6.13 64-bit ('read_pdf_file-eCrszwmY': pipenv)"
  },
  "metadata": {
   "interpreter": {
    "hash": "2c68e988c4d3fd250de957d652885e097976c72c17aa88a7c2e2994fe61e8a4f"
   }
  }
 },
 "nbformat": 4,
 "nbformat_minor": 2,
 "cells": [
  {
   "cell_type": "code",
   "execution_count": 1,
   "metadata": {},
   "outputs": [],
   "source": [
    "import PyPDF2\n",
    "import tabula\n",
    "import camelot"
   ]
  },
  {
   "cell_type": "code",
   "execution_count": 3,
   "metadata": {},
   "outputs": [
    {
     "output_type": "stream",
     "name": "stdout",
     "text": [
      "2\nDAFTAR KLAIM JAMINAN KECELAKAAN KERJA PENERIMA UPAHBERDASARKAN TANGGAL KLAIMPeriode :01-01-2010s/d31-03-2021Halaman           :Tanggal Cetak  :Waktu Cetak    : 22-04-202108:50DA245640PNR20161/2AA0019431603741316035511AA002826JJ067504160374131708329417115279NPPNPPNPPHYUNDAI ENGINEERING & CONSTRUCTION CO.PLD P3MD PROVINSI ACEHTENAGA AHLI P3MD PROVINSI ACEHAKMAL ABADI (SPBU)BANK TABUNGAN PENSIUNAN NASIONAL SYARIAHPLD P3MD PROVINSI ACEHARIATI CVGAMPONG BATU XII KEC, COT GIREK KAB. ACEH UTARA-APARAT DESANama PerusahaanNama PerusahaanNama Perusahaan1500061364416021878372160129659641605284877317041878814160218780421703569485418090482433No. ReferensiNo. ReferensiNo. ReferensiSURIA EFENDIMUNAWAREPENDIANSYARM AMIN SALEHELI DARMAHERI WISMA SARIANTOIRWAN PWZULKARNAININama PesertaNama PesertaNama PesertaKL18030207492338KL18111904293224KL18111904292958KL18111904293280KL18021804942663KL18111904293047KL18021805147210KL18021805147852KL18021805148779KL18021805142679KL20082509315906No. AgendaTahap 1No. AgendaTahap 1No. AgendaTahap 102-03-201819-11-201819-11-201819-11-201829-01-201819-11-201820-12-201225-03-201330-09-201328-12-201725-08-2020TanggalRekamTanggalRekamTanggalRekamAGENDA_TAHAP_IAGENDA_TAHAP_IAGENDA_TAHAP_IAGENDA_TAHAP_IAGENDA_TAHAP_IAGENDA_TAHAP_IAGENDA_TAHAP_IAGENDA_TAHAP_IAGENDA_TAHAP_IAGENDA_TAHAP_IAGENDA_TAHAP_IStatus KlaimStatus KlaimStatus KlaimTR162810SY150700SY150700SY150700SY150700SY150700AD148220AD148220AD148220NA278550IN259210NoNoNoPetugasPetugasPetugasTanggalKecelakaanTanggalKecelakaanTanggalKecelakaan25-01-201814-09-201805-11-201822-10-201826-01-201805-11-201820-12-201225-03-201330-09-201317-11-201720-08-2020Kantor Wilayah :Kantor Wilayah :Kantor Wilayah :Kantor Cabang :Kantor Cabang :Kantor Cabang :A00 - LHOKSEUMAWEA00 - LHOKSEUMAWE1 - GROUP KONSOLIDASI KANWIL SUMBAGUTA06 - ACEH TENGAH TAKENGONA08 - BIREUN KOTA JUANGA00 - LHOKSEUMAWEA06A01A01A08J06A01A08A00Cabang KepesertaanCabang KepesertaanCabang KepesertaanTanggalLaporTanggalLaporTanggalLapor25-01-201814-09-201805-11-201823-10-201829-01-201805-11-201828-12-201725-08-2020Kode Klaim IndukKode Klaim IndukKode Klaim Induk12345666678\n"
     ]
    }
   ],
   "source": [
    "pdfFileObj = open('downloads.pdf', 'rb')\n",
    "  \n",
    "# creating a pdf reader object\n",
    "pdfReader = PyPDF2.PdfFileReader(pdfFileObj)\n",
    "  \n",
    "# printing number of pages in pdf file\n",
    "print(pdfReader.numPages)\n",
    "  \n",
    "# creating a page object\n",
    "pageObj = pdfReader.getPage(0)\n",
    "  \n",
    "# extracting text from page\n",
    "print(pageObj.extractText())\n",
    "  \n",
    "# closing the pdf file object\n",
    "pdfFileObj.close()"
   ]
  },
  {
   "cell_type": "code",
   "execution_count": 9,
   "metadata": {},
   "outputs": [
    {
     "output_type": "execute_result",
     "data": {
      "text/plain": [
       "  Unnamed: 0 Unnamed: 1             Unnamed: 2     Unnamed: 3    Unnamed: 4  \\\n",
       "0         No        NPP        Nama Perusahaan  No. Referensi  Nama Peserta   \n",
       "1        NaN        NaN                    NaN            NaN           NaN   \n",
       "2          1   AA001943  HYUNDAI ENGINEERING &    15000613644  SURIA EFENDI   \n",
       "3        NaN        NaN       CONSTRUCTION CO.            NaN           NaN   \n",
       "\n",
       "        Cabang        No. Agenda Kode Klaim     Tanggal   Tanggal.1  \\\n",
       "0          NaN               NaN        NaN         NaN         NaN   \n",
       "1  Kepesertaan           Tahap 1      Induk       Rekam  Kecelakaan   \n",
       "2          A06  KL18030207492338        NaN  02-03-2018  25-01-2018   \n",
       "3          NaN               NaN        NaN         NaN         NaN   \n",
       "\n",
       "    Tanggal.2    Status Klaim   Petugas  \n",
       "0         NaN             NaN       NaN  \n",
       "1       Lapor             NaN       NaN  \n",
       "2  25-01-2018  AGENDA_TAHAP_I  TR162810  \n",
       "3         NaN             NaN       NaN  "
      ],
      "text/html": "<div>\n<style scoped>\n    .dataframe tbody tr th:only-of-type {\n        vertical-align: middle;\n    }\n\n    .dataframe tbody tr th {\n        vertical-align: top;\n    }\n\n    .dataframe thead th {\n        text-align: right;\n    }\n</style>\n<table border=\"1\" class=\"dataframe\">\n  <thead>\n    <tr style=\"text-align: right;\">\n      <th></th>\n      <th>Unnamed: 0</th>\n      <th>Unnamed: 1</th>\n      <th>Unnamed: 2</th>\n      <th>Unnamed: 3</th>\n      <th>Unnamed: 4</th>\n      <th>Cabang</th>\n      <th>No. Agenda</th>\n      <th>Kode Klaim</th>\n      <th>Tanggal</th>\n      <th>Tanggal.1</th>\n      <th>Tanggal.2</th>\n      <th>Status Klaim</th>\n      <th>Petugas</th>\n    </tr>\n  </thead>\n  <tbody>\n    <tr>\n      <th>0</th>\n      <td>No</td>\n      <td>NPP</td>\n      <td>Nama Perusahaan</td>\n      <td>No. Referensi</td>\n      <td>Nama Peserta</td>\n      <td>NaN</td>\n      <td>NaN</td>\n      <td>NaN</td>\n      <td>NaN</td>\n      <td>NaN</td>\n      <td>NaN</td>\n      <td>NaN</td>\n      <td>NaN</td>\n    </tr>\n    <tr>\n      <th>1</th>\n      <td>NaN</td>\n      <td>NaN</td>\n      <td>NaN</td>\n      <td>NaN</td>\n      <td>NaN</td>\n      <td>Kepesertaan</td>\n      <td>Tahap 1</td>\n      <td>Induk</td>\n      <td>Rekam</td>\n      <td>Kecelakaan</td>\n      <td>Lapor</td>\n      <td>NaN</td>\n      <td>NaN</td>\n    </tr>\n    <tr>\n      <th>2</th>\n      <td>1</td>\n      <td>AA001943</td>\n      <td>HYUNDAI ENGINEERING &amp;</td>\n      <td>15000613644</td>\n      <td>SURIA EFENDI</td>\n      <td>A06</td>\n      <td>KL18030207492338</td>\n      <td>NaN</td>\n      <td>02-03-2018</td>\n      <td>25-01-2018</td>\n      <td>25-01-2018</td>\n      <td>AGENDA_TAHAP_I</td>\n      <td>TR162810</td>\n    </tr>\n    <tr>\n      <th>3</th>\n      <td>NaN</td>\n      <td>NaN</td>\n      <td>CONSTRUCTION CO.</td>\n      <td>NaN</td>\n      <td>NaN</td>\n      <td>NaN</td>\n      <td>NaN</td>\n      <td>NaN</td>\n      <td>NaN</td>\n      <td>NaN</td>\n      <td>NaN</td>\n      <td>NaN</td>\n      <td>NaN</td>\n    </tr>\n  </tbody>\n</table>\n</div>"
     },
     "metadata": {},
     "execution_count": 9
    }
   ],
   "source": [
    "file = \"downloads.pdf\"\n",
    "table = tabula.read_pdf(file,pages=1,stream=True)\n",
    "table[0]"
   ]
  },
  {
   "cell_type": "code",
   "execution_count": 3,
   "metadata": {},
   "outputs": [
    {
     "output_type": "stream",
     "name": "stdout",
     "text": [
      "Total tables extracted: 3\n    0         1                                         2              3   \\\n0   No       NPP                           Nama Perusahaan  No. Referensi   \n1  2 3  16037413                    PLD P3MD PROVINSI ACEH    16021878372   \n2       16035511            TENAGA AHLI P3MD PROVINSI ACEH    16012965964   \n3  4 5  AA002826                        AKMAL ABADI (SPBU)    16052848773   \n4       JJ067504  BANK TABUNGAN PENSIUNAN NASIONAL SYARIAH    17041878814   \n5    6  16037413                    PLD P3MD PROVINSI ACEH    16021878042   \n\n                    4                   5                  6   \\\n0         Nama Peserta  Cabang Kepesertaan  No. AgendaTahap 1   \n1              MUNAWAR                 A01   KL18111904293224   \n2         EPENDIANSYAR                 A01   KL18111904292958   \n3         M AMIN SALEH                 A08   KL18111904293280   \n4            ELI DARMA                 J06   KL18021804942663   \n5  HERI WISMA SARIANTO                 A01   KL18111904293047   \n\n                 7             8                  9             10  \\\n0  Kode Klaim Induk  TanggalRekam  TanggalKecelakaan  TanggalLapor   \n1                      19-11-2018         14-09-2018    14-09-2018   \n2                      19-11-2018         05-11-2018    05-11-2018   \n3                      19-11-2018         22-10-2018    23-10-2018   \n4                      29-01-2018         26-01-2018    29-01-2018   \n5                      19-11-2018         05-11-2018    05-11-2018   \n\n               11        12  \n0    Status Klaim   Petugas  \n1  AGENDA_TAHAP_I  SY150700  \n2  AGENDA_TAHAP_I  SY150700  \n3  AGENDA_TAHAP_I  SY150700  \n4  AGENDA_TAHAP_I  SY150700  \n5  AGENDA_TAHAP_I  SY150700  \n"
     ]
    }
   ],
   "source": [
    "# PDF file to extract tables from\n",
    "file = \"downloads.pdf\"\n",
    "tables = camelot.read_pdf(file, strip_text='\\n')\n",
    "# number of tables extracted\n",
    "print(\"Total tables extracted:\", tables.n)\n",
    "# print the first table as Pandas DataFrame\n",
    "print(tables[1].df)"
   ]
  },
  {
   "cell_type": "code",
   "execution_count": 4,
   "metadata": {},
   "outputs": [],
   "source": [
    "# export individually\n",
    "tables[0].to_csv(\"test1.csv\")   # Tabele 1\n",
    "tables[1].to_csv(\"test2.csv\")   # Tabele 2\n",
    "tables[2].to_csv(\"test3.csv\")   # Tabele 3"
   ]
  }
 ]
}